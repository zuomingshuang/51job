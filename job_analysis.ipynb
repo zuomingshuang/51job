{
 "cells": [
  {
   "cell_type": "markdown",
   "metadata": {},
   "source": [
    "# 从数据库中获取数据"
   ]
  },
  {
   "cell_type": "code",
   "execution_count": 1,
   "metadata": {},
   "outputs": [],
   "source": [
    "# 导入需要的模块\n",
    "import pymysql\n",
    "import pandas as pd\n",
    "import numpy\n",
    "import matplotlib.pyplot as plt"
   ]
  },
  {
   "cell_type": "code",
   "execution_count": 2,
   "metadata": {},
   "outputs": [
    {
     "data": {
      "text/html": [
       "<div>\n",
       "<style scoped>\n",
       "    .dataframe tbody tr th:only-of-type {\n",
       "        vertical-align: middle;\n",
       "    }\n",
       "\n",
       "    .dataframe tbody tr th {\n",
       "        vertical-align: top;\n",
       "    }\n",
       "\n",
       "    .dataframe thead th {\n",
       "        text-align: right;\n",
       "    }\n",
       "</style>\n",
       "<table border=\"1\" class=\"dataframe\">\n",
       "  <thead>\n",
       "    <tr style=\"text-align: right;\">\n",
       "      <th></th>\n",
       "      <th>job_name</th>\n",
       "      <th>company_name</th>\n",
       "      <th>salary</th>\n",
       "      <th>address</th>\n",
       "      <th>experience</th>\n",
       "      <th>level</th>\n",
       "    </tr>\n",
       "  </thead>\n",
       "  <tbody>\n",
       "    <tr>\n",
       "      <td>0</td>\n",
       "      <td>银行电销精英+年底双薪+七险一金</td>\n",
       "      <td>招商信诺人寿保险有限公司</td>\n",
       "      <td>0.8-1万/月</td>\n",
       "      <td>上海-浦东新区</td>\n",
       "      <td>无需经验</td>\n",
       "      <td>中专</td>\n",
       "    </tr>\n",
       "    <tr>\n",
       "      <td>1</td>\n",
       "      <td>银行电话客服+六险二金+提成翻倍+月入过万</td>\n",
       "      <td>招商信诺人寿保险有限公司</td>\n",
       "      <td>0.8-1.2万/月</td>\n",
       "      <td>上海-浦东新区</td>\n",
       "      <td>1年经验</td>\n",
       "      <td>大专</td>\n",
       "    </tr>\n",
       "    <tr>\n",
       "      <td>2</td>\n",
       "      <td>银行客服月8000/银行官方热线/高级VIP 渠道/正规工号</td>\n",
       "      <td>招商信诺人寿保险有限公司</td>\n",
       "      <td>1-1.5万/月</td>\n",
       "      <td>上海-浦东新区</td>\n",
       "      <td>无需经验</td>\n",
       "      <td>高中</td>\n",
       "    </tr>\n",
       "    <tr>\n",
       "      <td>3</td>\n",
       "      <td>招商信诺银行保险电话销售+月入过万+就近分配15</td>\n",
       "      <td>招商信诺人寿保险有限公司</td>\n",
       "      <td>1-1.5万/月</td>\n",
       "      <td>上海-浦东新区</td>\n",
       "      <td>无需经验</td>\n",
       "      <td>高中</td>\n",
       "    </tr>\n",
       "    <tr>\n",
       "      <td>4</td>\n",
       "      <td>光大银行直招-远程服务专员</td>\n",
       "      <td>中国光大银行远程银行中心武汉分中心</td>\n",
       "      <td>6-8千/月</td>\n",
       "      <td>武汉-武昌区</td>\n",
       "      <td>无需经验</td>\n",
       "      <td>本科</td>\n",
       "    </tr>\n",
       "    <tr>\n",
       "      <td>...</td>\n",
       "      <td>...</td>\n",
       "      <td>...</td>\n",
       "      <td>...</td>\n",
       "      <td>...</td>\n",
       "      <td>...</td>\n",
       "      <td>...</td>\n",
       "    </tr>\n",
       "    <tr>\n",
       "      <td>10079</td>\n",
       "      <td>武汉中支非车险部门总</td>\n",
       "      <td>阳光财产保险股份有限公司</td>\n",
       "      <td>15-20万/年</td>\n",
       "      <td>武汉-江汉区</td>\n",
       "      <td>3-4年经验</td>\n",
       "      <td>本科</td>\n",
       "    </tr>\n",
       "    <tr>\n",
       "      <td>10080</td>\n",
       "      <td>理赔服务部未决管理岗</td>\n",
       "      <td>阳光财产保险股份有限公司</td>\n",
       "      <td>3-4.5千/月</td>\n",
       "      <td>武汉-江汉区</td>\n",
       "      <td>None</td>\n",
       "      <td>None</td>\n",
       "    </tr>\n",
       "    <tr>\n",
       "      <td>10081</td>\n",
       "      <td>理赔服务部查勘定损岗</td>\n",
       "      <td>阳光财产保险股份有限公司</td>\n",
       "      <td>3-4.5千/月</td>\n",
       "      <td>武汉-江汉区</td>\n",
       "      <td>None</td>\n",
       "      <td>None</td>\n",
       "    </tr>\n",
       "    <tr>\n",
       "      <td>10082</td>\n",
       "      <td>客户服务部业务管理岗</td>\n",
       "      <td>阳光财产保险股份有限公司</td>\n",
       "      <td>3-4.5千/月</td>\n",
       "      <td>武汉-江汉区</td>\n",
       "      <td>None</td>\n",
       "      <td>None</td>\n",
       "    </tr>\n",
       "    <tr>\n",
       "      <td>10083</td>\n",
       "      <td>稽核岗</td>\n",
       "      <td>阳光财产保险股份有限公司</td>\n",
       "      <td>6-8千/月</td>\n",
       "      <td>武汉-江汉区</td>\n",
       "      <td>1年经验</td>\n",
       "      <td>本科</td>\n",
       "    </tr>\n",
       "  </tbody>\n",
       "</table>\n",
       "<p>10084 rows × 6 columns</p>\n",
       "</div>"
      ],
      "text/plain": [
       "                             job_name       company_name      salary  address  \\\n",
       "0                    银行电销精英+年底双薪+七险一金       招商信诺人寿保险有限公司    0.8-1万/月  上海-浦东新区   \n",
       "1               银行电话客服+六险二金+提成翻倍+月入过万       招商信诺人寿保险有限公司  0.8-1.2万/月  上海-浦东新区   \n",
       "2      银行客服月8000/银行官方热线/高级VIP 渠道/正规工号       招商信诺人寿保险有限公司    1-1.5万/月  上海-浦东新区   \n",
       "3            招商信诺银行保险电话销售+月入过万+就近分配15       招商信诺人寿保险有限公司    1-1.5万/月  上海-浦东新区   \n",
       "4                       光大银行直招-远程服务专员  中国光大银行远程银行中心武汉分中心      6-8千/月   武汉-武昌区   \n",
       "...                               ...                ...         ...      ...   \n",
       "10079                      武汉中支非车险部门总       阳光财产保险股份有限公司    15-20万/年   武汉-江汉区   \n",
       "10080                      理赔服务部未决管理岗       阳光财产保险股份有限公司    3-4.5千/月   武汉-江汉区   \n",
       "10081                      理赔服务部查勘定损岗       阳光财产保险股份有限公司    3-4.5千/月   武汉-江汉区   \n",
       "10082                      客户服务部业务管理岗       阳光财产保险股份有限公司    3-4.5千/月   武汉-江汉区   \n",
       "10083                             稽核岗       阳光财产保险股份有限公司      6-8千/月   武汉-江汉区   \n",
       "\n",
       "      experience level  \n",
       "0           无需经验    中专  \n",
       "1           1年经验    大专  \n",
       "2           无需经验    高中  \n",
       "3           无需经验    高中  \n",
       "4           无需经验    本科  \n",
       "...          ...   ...  \n",
       "10079     3-4年经验    本科  \n",
       "10080       None  None  \n",
       "10081       None  None  \n",
       "10082       None  None  \n",
       "10083       1年经验    本科  \n",
       "\n",
       "[10084 rows x 6 columns]"
      ]
     },
     "execution_count": 2,
     "metadata": {},
     "output_type": "execute_result"
    }
   ],
   "source": [
    "#连接数据库\n",
    "db=pymysql.connect(host='localhost',port=3306,user='root',password='123',database='test')\n",
    "#获取数据\n",
    "df=pd.read_sql('select * from job_data',con=db)\n",
    "df"
   ]
  },
  {
   "cell_type": "markdown",
   "metadata": {},
   "source": [
    "# 清洗原始数据"
   ]
  },
  {
   "cell_type": "code",
   "execution_count": 3,
   "metadata": {},
   "outputs": [
    {
     "name": "stderr",
     "output_type": "stream",
     "text": [
      "c:\\users\\lenovo\\appdata\\local\\programs\\python\\python37\\lib\\site-packages\\ipykernel_launcher.py:4: SettingWithCopyWarning: \n",
      "A value is trying to be set on a copy of a slice from a DataFrame.\n",
      "Try using .loc[row_indexer,col_indexer] = value instead\n",
      "\n",
      "See the caveats in the documentation: http://pandas.pydata.org/pandas-docs/stable/user_guide/indexing.html#returning-a-view-versus-a-copy\n",
      "  after removing the cwd from sys.path.\n"
     ]
    },
    {
     "data": {
      "text/html": [
       "<div>\n",
       "<style scoped>\n",
       "    .dataframe tbody tr th:only-of-type {\n",
       "        vertical-align: middle;\n",
       "    }\n",
       "\n",
       "    .dataframe tbody tr th {\n",
       "        vertical-align: top;\n",
       "    }\n",
       "\n",
       "    .dataframe thead th {\n",
       "        text-align: right;\n",
       "    }\n",
       "</style>\n",
       "<table border=\"1\" class=\"dataframe\">\n",
       "  <thead>\n",
       "    <tr style=\"text-align: right;\">\n",
       "      <th></th>\n",
       "      <th>job_name</th>\n",
       "      <th>company_name</th>\n",
       "      <th>salary</th>\n",
       "      <th>address</th>\n",
       "      <th>experience</th>\n",
       "      <th>level</th>\n",
       "      <th>area</th>\n",
       "      <th>mean_salary</th>\n",
       "    </tr>\n",
       "  </thead>\n",
       "  <tbody>\n",
       "    <tr>\n",
       "      <td>4</td>\n",
       "      <td>光大银行直招-远程服务专员</td>\n",
       "      <td>中国光大银行远程银行中心武汉分中心</td>\n",
       "      <td>6-8千/月</td>\n",
       "      <td>武汉-武昌区</td>\n",
       "      <td>无需经验</td>\n",
       "      <td>本科</td>\n",
       "      <td>武昌区</td>\n",
       "      <td>7.0</td>\n",
       "    </tr>\n",
       "    <tr>\n",
       "      <td>5</td>\n",
       "      <td>法务管理岗</td>\n",
       "      <td>中建三局绿色产业投资有限公司</td>\n",
       "      <td>1.3-2万/月</td>\n",
       "      <td>武汉-武汉经济开发区</td>\n",
       "      <td>5-7年经验</td>\n",
       "      <td>本科</td>\n",
       "      <td>武汉经济开发区</td>\n",
       "      <td>16.5</td>\n",
       "    </tr>\n",
       "    <tr>\n",
       "      <td>8</td>\n",
       "      <td>广发证券武汉友谊大道营业部（柜台业务主办）</td>\n",
       "      <td>广发证券股份有限公司湖北分公司</td>\n",
       "      <td>4.5-6千/月</td>\n",
       "      <td>武汉</td>\n",
       "      <td>None</td>\n",
       "      <td>None</td>\n",
       "      <td>未知</td>\n",
       "      <td>5.2</td>\n",
       "    </tr>\n",
       "    <tr>\n",
       "      <td>9</td>\n",
       "      <td>JAVA开发工程师（武汉）(J10388)</td>\n",
       "      <td>银联商务股份有限公司</td>\n",
       "      <td>15-30万/年</td>\n",
       "      <td>武汉-洪山区</td>\n",
       "      <td>2年经验</td>\n",
       "      <td>本科</td>\n",
       "      <td>洪山区</td>\n",
       "      <td>18.8</td>\n",
       "    </tr>\n",
       "    <tr>\n",
       "      <td>10</td>\n",
       "      <td>银行驻点大堂岗/就近分配/双休</td>\n",
       "      <td>安盛天平财产保险股份有限公司</td>\n",
       "      <td>0.5-1万/月</td>\n",
       "      <td>武汉-汉阳区</td>\n",
       "      <td>无需经验</td>\n",
       "      <td>大专</td>\n",
       "      <td>汉阳区</td>\n",
       "      <td>7.5</td>\n",
       "    </tr>\n",
       "    <tr>\n",
       "      <td>...</td>\n",
       "      <td>...</td>\n",
       "      <td>...</td>\n",
       "      <td>...</td>\n",
       "      <td>...</td>\n",
       "      <td>...</td>\n",
       "      <td>...</td>\n",
       "      <td>...</td>\n",
       "      <td>...</td>\n",
       "    </tr>\n",
       "    <tr>\n",
       "      <td>10079</td>\n",
       "      <td>武汉中支非车险部门总</td>\n",
       "      <td>阳光财产保险股份有限公司</td>\n",
       "      <td>15-20万/年</td>\n",
       "      <td>武汉-江汉区</td>\n",
       "      <td>3-4年经验</td>\n",
       "      <td>本科</td>\n",
       "      <td>江汉区</td>\n",
       "      <td>14.6</td>\n",
       "    </tr>\n",
       "    <tr>\n",
       "      <td>10080</td>\n",
       "      <td>理赔服务部未决管理岗</td>\n",
       "      <td>阳光财产保险股份有限公司</td>\n",
       "      <td>3-4.5千/月</td>\n",
       "      <td>武汉-江汉区</td>\n",
       "      <td>None</td>\n",
       "      <td>None</td>\n",
       "      <td>江汉区</td>\n",
       "      <td>3.8</td>\n",
       "    </tr>\n",
       "    <tr>\n",
       "      <td>10081</td>\n",
       "      <td>理赔服务部查勘定损岗</td>\n",
       "      <td>阳光财产保险股份有限公司</td>\n",
       "      <td>3-4.5千/月</td>\n",
       "      <td>武汉-江汉区</td>\n",
       "      <td>None</td>\n",
       "      <td>None</td>\n",
       "      <td>江汉区</td>\n",
       "      <td>3.8</td>\n",
       "    </tr>\n",
       "    <tr>\n",
       "      <td>10082</td>\n",
       "      <td>客户服务部业务管理岗</td>\n",
       "      <td>阳光财产保险股份有限公司</td>\n",
       "      <td>3-4.5千/月</td>\n",
       "      <td>武汉-江汉区</td>\n",
       "      <td>None</td>\n",
       "      <td>None</td>\n",
       "      <td>江汉区</td>\n",
       "      <td>3.8</td>\n",
       "    </tr>\n",
       "    <tr>\n",
       "      <td>10083</td>\n",
       "      <td>稽核岗</td>\n",
       "      <td>阳光财产保险股份有限公司</td>\n",
       "      <td>6-8千/月</td>\n",
       "      <td>武汉-江汉区</td>\n",
       "      <td>1年经验</td>\n",
       "      <td>本科</td>\n",
       "      <td>江汉区</td>\n",
       "      <td>7.0</td>\n",
       "    </tr>\n",
       "  </tbody>\n",
       "</table>\n",
       "<p>9715 rows × 8 columns</p>\n",
       "</div>"
      ],
      "text/plain": [
       "                    job_name       company_name    salary     address  \\\n",
       "4              光大银行直招-远程服务专员  中国光大银行远程银行中心武汉分中心    6-8千/月      武汉-武昌区   \n",
       "5                      法务管理岗     中建三局绿色产业投资有限公司  1.3-2万/月  武汉-武汉经济开发区   \n",
       "8      广发证券武汉友谊大道营业部（柜台业务主办）    广发证券股份有限公司湖北分公司  4.5-6千/月          武汉   \n",
       "9      JAVA开发工程师（武汉）(J10388)         银联商务股份有限公司  15-30万/年      武汉-洪山区   \n",
       "10           银行驻点大堂岗/就近分配/双休     安盛天平财产保险股份有限公司  0.5-1万/月      武汉-汉阳区   \n",
       "...                      ...                ...       ...         ...   \n",
       "10079             武汉中支非车险部门总       阳光财产保险股份有限公司  15-20万/年      武汉-江汉区   \n",
       "10080             理赔服务部未决管理岗       阳光财产保险股份有限公司  3-4.5千/月      武汉-江汉区   \n",
       "10081             理赔服务部查勘定损岗       阳光财产保险股份有限公司  3-4.5千/月      武汉-江汉区   \n",
       "10082             客户服务部业务管理岗       阳光财产保险股份有限公司  3-4.5千/月      武汉-江汉区   \n",
       "10083                    稽核岗       阳光财产保险股份有限公司    6-8千/月      武汉-江汉区   \n",
       "\n",
       "      experience level     area  mean_salary  \n",
       "4           无需经验    本科      武昌区          7.0  \n",
       "5         5-7年经验    本科  武汉经济开发区         16.5  \n",
       "8           None  None       未知          5.2  \n",
       "9           2年经验    本科      洪山区         18.8  \n",
       "10          无需经验    大专      汉阳区          7.5  \n",
       "...          ...   ...      ...          ...  \n",
       "10079     3-4年经验    本科      江汉区         14.6  \n",
       "10080       None  None      江汉区          3.8  \n",
       "10081       None  None      江汉区          3.8  \n",
       "10082       None  None      江汉区          3.8  \n",
       "10083       1年经验    本科      江汉区          7.0  \n",
       "\n",
       "[9715 rows x 8 columns]"
      ]
     },
     "execution_count": 3,
     "metadata": {},
     "output_type": "execute_result"
    }
   ],
   "source": [
    "#获取工作地点为武汉的数据（排除异地招聘的数据）\n",
    "df=df[df['address'].apply(lambda x:True if '武汉' in x else False)]\n",
    "# 增加一列区域\n",
    "df['area']=df['address'].apply(lambda addr:addr.split('武汉-')[1] if len(addr.split('武汉-'))>=2 else '未知')\n",
    "#保留salary不为空的行\n",
    "df=df[df['salary'].apply(lambda x:True if x!=None else False)]\n",
    "# #定义函数对薪资进行转换然后计算平均薪资（单位千/月）\n",
    "def average_salary(salary):\n",
    "    salary=salary.replace('以上','').replace('以下','')\n",
    "    if '万/月' in salary:\n",
    "        mylist=salary.split('万/月')[0].split('-')\n",
    "        if len(mylist)>1:\n",
    "            mean_salary=(float(mylist[0])+float(mylist[1]))*10/2\n",
    "        else:\n",
    "            mean_salary = (float(mylist[0]))*10\n",
    "    elif '千/月' in salary:\n",
    "        mylist=salary.split('千/月')[0].split('-')\n",
    "        if len(mylist)>1:\n",
    "            mean_salary = (float(mylist[0]) + float(mylist[1]))/2\n",
    "        else:\n",
    "            mean_salary = float(mylist[0])\n",
    "    elif '万/年' in salary:\n",
    "        mylist = salary.split('万/年')[0].split('-')\n",
    "        if len(mylist)>1:\n",
    "            mean_salary = (float(mylist[0]) + float(mylist[1]))*10/12/2\n",
    "        else:\n",
    "            mean_salary = float(mylist[0])*10/12\n",
    "    elif '元/天' in salary:\n",
    "        mylist = salary.split('元/天')[0].split('-')\n",
    "        if len(mylist)>1:\n",
    "            mean_salary = (float(mylist[0]) + float(mylist[1]))/1000*21/2\n",
    "        else:\n",
    "            mean_salary = float(mylist[0])/1000*21\n",
    "    elif '元/小时' in salary:\n",
    "        mylist = salary.split('元/小时')[0].split('-')\n",
    "        if len(mylist) > 1:\n",
    "            mean_salary = (float(mylist[0]) + float(mylist[1]))/1000*8*21/2\n",
    "        else:\n",
    "            mean_salary = float(mylist[0])/1000*8*21\n",
    "    else:\n",
    "        mean_salary=''\n",
    "    return  round(mean_salary,1)\n",
    "df['mean_salary']=df['salary'].apply(average_salary)\n",
    "df"
   ]
  },
  {
   "cell_type": "markdown",
   "metadata": {},
   "source": [
    "# 利用清洗好的数据制作图表"
   ]
  },
  {
   "cell_type": "raw",
   "metadata": {},
   "source": [
    "# 薪资分析"
   ]
  },
  {
   "cell_type": "code",
   "execution_count": 4,
   "metadata": {},
   "outputs": [
    {
     "data": {
      "image/png": "[encoded data removed]",
      "text/plain": [
       "<Figure size 432x288 with 1 Axes>"
      ]
     },
     "metadata": {
      "needs_background": "light"
     },
     "output_type": "display_data"
    }
   ],
   "source": [
    "#薪资整体分布情况\n",
    "df_salary=df['mean_salary'].value_counts()\n",
    "df_salary=df_salary.sort_index()\n",
    "plt.rcParams['font.sans-serif'] = ['SimHei']  # 用来正常显示中文标签\n",
    "plt.rcParams['axes.unicode_minus'] = False  # 用来正常显示负号\n",
    "df_salary.plot(kind='line')\n",
    "plt.xlabel('薪资(千/月)')\n",
    "plt.ylabel('工作数量(个)')\n",
    "plt.title('薪资分布情况')\n",
    "plt.show()"
   ]
  },
  {
   "cell_type": "code",
   "execution_count": 5,
   "metadata": {},
   "outputs": [
    {
     "data": {
      "image/png": "[encoded data removed]",
      "text/plain": [
       "<Figure size 432x288 with 1 Axes>"
      ]
     },
     "metadata": {
      "needs_background": "light"
     },
     "output_type": "display_data"
    }
   ],
   "source": [
    "#薪资在0-20千/月的分布情况\n",
    "df_salary=df['mean_salary'].value_counts()\n",
    "df_salary=df_salary.sort_index()\n",
    "df_salary=df_salary[df_salary.index<=20]\n",
    "df_salary.plot(kind='line')\n",
    "plt.xlabel('薪资(千/月)')\n",
    "plt.ylabel('工作数量(个)')\n",
    "plt.title('薪资在0-20千/月的分布情况')\n",
    "plt.show()"
   ]
  },
  {
   "cell_type": "code",
   "execution_count": 6,
   "metadata": {},
   "outputs": [],
   "source": [
    "# 学历分析"
   ]
  },
  {
   "cell_type": "code",
   "execution_count": 7,
   "metadata": {},
   "outputs": [
    {
     "data": {
      "text/plain": [
       "博士          1\n",
       "初中及以下       5\n",
       "中技         19\n",
       "硕士         33\n",
       "中专        227\n",
       "高中        302\n",
       "本科        817\n",
       "大专       1922\n",
       "Name: level, dtype: int64"
      ]
     },
     "execution_count": 7,
     "metadata": {},
     "output_type": "execute_result"
    }
   ],
   "source": [
    "#学历分布情况\n",
    "df_level=df['level'].value_counts(ascending=True)\n",
    "df_level"
   ]
  },
  {
   "cell_type": "code",
   "execution_count": 8,
   "metadata": {
    "scrolled": true
   },
   "outputs": [
    {
     "data": {
      "image/png": "[encoded data removed]",
      "text/plain": [
       "<Figure size 432x288 with 1 Axes>"
      ]
     },
     "metadata": {
      "needs_background": "light"
     },
     "output_type": "display_data"
    }
   ],
   "source": [
    "df_level.plot(kind='barh')\n",
    "plt.xlabel('工作数量(个)')\n",
    "plt.ylabel('学历')\n",
    "plt.title('学历分布情况')\n",
    "plt.show()"
   ]
  },
  {
   "cell_type": "code",
   "execution_count": 9,
   "metadata": {},
   "outputs": [
    {
     "data": {
      "text/plain": [
       "level\n",
       "初中及以下     5.140000\n",
       "中专        8.868282\n",
       "高中        8.889073\n",
       "中技        8.973684\n",
       "大专       10.130697\n",
       "本科       12.198654\n",
       "硕士       15.833333\n",
       "博士       30.000000\n",
       "Name: mean_salary, dtype: float64"
      ]
     },
     "execution_count": 9,
     "metadata": {},
     "output_type": "execute_result"
    }
   ],
   "source": [
    "df_level_mean_salary=df.groupby(by='level')['mean_salary'].mean().sort_values()\n",
    "df_level_mean_salary"
   ]
  },
  {
   "cell_type": "code",
   "execution_count": 10,
   "metadata": {},
   "outputs": [
    {
     "data": {
      "image/png": "[encoded data removed]",
      "text/plain": [
       "<Figure size 432x288 with 1 Axes>"
      ]
     },
     "metadata": {
      "needs_background": "light"
     },
     "output_type": "display_data"
    }
   ],
   "source": [
    "df_level_mean_salary.plot(kind='bar')\n",
    "plt.xlabel('学历')\n",
    "plt.ylabel('平均薪资(千/月)')\n",
    "plt.title('各学历平均薪资情况')\n",
    "plt.show()"
   ]
  },
  {
   "cell_type": "code",
   "execution_count": 11,
   "metadata": {},
   "outputs": [],
   "source": [
    "# 地区分析"
   ]
  },
  {
   "cell_type": "code",
   "execution_count": 12,
   "metadata": {},
   "outputs": [
    {
     "data": {
      "text/plain": [
       "汉南区              1\n",
       "新洲区              4\n",
       "青山区              6\n",
       "蔡甸区             17\n",
       "黄陂区             25\n",
       "武汉经济开发区         69\n",
       "东西湖区            78\n",
       "东湖新技术产业开发区     254\n",
       "汉阳区            261\n",
       "汉口区            325\n",
       "江岸区            404\n",
       "江夏区           1084\n",
       "武昌区           1194\n",
       "江汉区           1497\n",
       "洪山区           3676\n",
       "Name: area, dtype: int64"
      ]
     },
     "execution_count": 12,
     "metadata": {},
     "output_type": "execute_result"
    }
   ],
   "source": [
    "#地区分布情况\n",
    "df_area=df[df.area!='未知']['area'].value_counts(ascending=True)\n",
    "df_area"
   ]
  },
  {
   "cell_type": "code",
   "execution_count": 13,
   "metadata": {},
   "outputs": [
    {
     "data": {
      "image/png": "[encoded data removed]",
      "text/plain": [
       "<Figure size 432x288 with 1 Axes>"
      ]
     },
     "metadata": {
      "needs_background": "light"
     },
     "output_type": "display_data"
    }
   ],
   "source": [
    "df_area.plot(kind='bar')\n",
    "plt.xlabel('区域')\n",
    "plt.ylabel('工作数量')\n",
    "plt.title('区域分布情况')\n",
    "plt.show()"
   ]
  }
 ],
 "metadata": {
  "kernelspec": {
   "display_name": "Python 3",
   "language": "python",
   "name": "python3"
  },
  "language_info": {
   "codemirror_mode": {
    "name": "ipython",
    "version": 3
   },
   "file_extension": ".py",
   "mimetype": "text/x-python",
   "name": "python",
   "nbconvert_exporter": "python",
   "pygments_lexer": "ipython3",
   "version": "3.7.1"
  },
  "toc": {
   "base_numbering": 1,
   "nav_menu": {},
   "number_sections": true,
   "sideBar": true,
   "skip_h1_title": false,
   "title_cell": "Table of Contents",
   "title_sidebar": "Contents",
   "toc_cell": false,
   "toc_position": {},
   "toc_section_display": true,
   "toc_window_display": false
  }
 },
 "nbformat": 4,
 "nbformat_minor": 4
}
